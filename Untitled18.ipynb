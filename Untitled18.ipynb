{
  "nbformat": 4,
  "nbformat_minor": 0,
  "metadata": {
    "colab": {
      "name": "Untitled18.ipynb",
      "provenance": [],
      "collapsed_sections": [],
      "authorship_tag": "ABX9TyNs3VTsiISOugXqZOMqdpDo",
      "include_colab_link": true
    },
    "kernelspec": {
      "name": "python3",
      "display_name": "Python 3"
    }
  },
  "cells": [
    {
      "cell_type": "markdown",
      "metadata": {
        "id": "view-in-github",
        "colab_type": "text"
      },
      "source": [
        "<a href=\"https://colab.research.google.com/github/priya3028/ML-Lab-Programs/blob/master/Untitled18.ipynb\" target=\"_parent\"><img src=\"https://colab.research.google.com/assets/colab-badge.svg\" alt=\"Open In Colab\"/></a>"
      ]
    },
    {
      "cell_type": "markdown",
      "metadata": {
        "id": "cQZD8Jp9Ie_5",
        "colab_type": "text"
      },
      "source": [
        "**Write a Python program which accepts the user's first and last name and print them in reverse order with a space between them**"
      ]
    },
    {
      "cell_type": "code",
      "metadata": {
        "id": "R3FatNXUIABA",
        "colab_type": "code",
        "colab": {
          "base_uri": "https://localhost:8080/",
          "height": 69
        },
        "outputId": "0aa63d63-edfc-4d42-a814-5f76718b3df6"
      },
      "source": [
        "\n",
        "fname = input(\"Input your First Name : \")\n",
        "lname = input(\"Input your Last Name : \")\n",
        "print (\"\" + lname + \" \" + fname)"
      ],
      "execution_count": 1,
      "outputs": [
        {
          "output_type": "stream",
          "text": [
            "Input your First Name : Priya \n",
            "Input your Last Name : H T\n",
            "H T Priya \n"
          ],
          "name": "stdout"
        }
      ]
    },
    {
      "cell_type": "markdown",
      "metadata": {
        "id": "RHmRdfQNJPbs",
        "colab_type": "text"
      },
      "source": [
        "**Write a Python program to calculate number of days between two dates.**"
      ]
    },
    {
      "cell_type": "code",
      "metadata": {
        "id": "RWtskzopIpQq",
        "colab_type": "code",
        "colab": {
          "base_uri": "https://localhost:8080/",
          "height": 139
        },
        "outputId": "14334ab4-9081-49dd-8cad-8a141fd7535a"
      },
      "source": [
        "from datetime import date\n",
        "y1=int(input(\"enter year1: \"))\n",
        "m1=int(input(\"enter month1: \"))\n",
        "d1=int(input(\"enter date1: \"))\n",
        "y2=int(input(\"enter year2: \"))\n",
        "m2=int(input(\"enter month2: \"))\n",
        "d2=int(input(\"enter date2: \"))\n",
        "f_date = date(y1, m1, d1)\n",
        "l_date = date(y2, m2, d2)\n",
        "delta = l_date - f_date\n",
        "print(delta.days)"
      ],
      "execution_count": 4,
      "outputs": [
        {
          "output_type": "stream",
          "text": [
            "enter year1: 2018\n",
            "enter month1: 5\n",
            "enter date1: 3\n",
            "enter year2: 2019\n",
            "enter month2: 5\n",
            "enter date2: 3\n",
            "365\n"
          ],
          "name": "stdout"
        }
      ]
    },
    {
      "cell_type": "markdown",
      "metadata": {
        "id": "LMeRT67dJwY7",
        "colab_type": "text"
      },
      "source": [
        "**Write a Python program to test whether a passed letter is a vowel or not**"
      ]
    },
    {
      "cell_type": "code",
      "metadata": {
        "id": "CMC-EGXlJWdV",
        "colab_type": "code",
        "colab": {
          "base_uri": "https://localhost:8080/",
          "height": 52
        },
        "outputId": "3e01d20c-6d3b-4b25-ca75-7d9ee7109d4b"
      },
      "source": [
        "def is_vowel(char):\n",
        "    all_vowels = 'aeiou'\n",
        "    return char in all_vowels\n",
        "ch=input(\"enter character: \")\n",
        "print(is_vowel(ch))"
      ],
      "execution_count": 5,
      "outputs": [
        {
          "output_type": "stream",
          "text": [
            "enter character: e\n",
            "True\n"
          ],
          "name": "stdout"
        }
      ]
    },
    {
      "cell_type": "markdown",
      "metadata": {
        "id": "FRY3-yM9J_Ie",
        "colab_type": "text"
      },
      "source": [
        "**Write a Python program to sum of three given integers. However, if two values are equal sum will be zero.**"
      ]
    },
    {
      "cell_type": "code",
      "metadata": {
        "id": "Yll4Wq3KJ7Lr",
        "colab_type": "code",
        "colab": {
          "base_uri": "https://localhost:8080/",
          "height": 87
        },
        "outputId": "c138b4f8-83df-4928-ddd3-ce1c53fe65cd"
      },
      "source": [
        "def sum(x, y, z):\n",
        "    if x == y or y == z or x==z:\n",
        "        sum = 0\n",
        "    else:\n",
        "        sum = x + y + z\n",
        "    return sum\n",
        "x=int(input(\"enter 1st num : \"))\n",
        "y=int(input(\"enter 2nd num : \"))\n",
        "z=int(input(\"enter 3rd num : \"))\n",
        "print(sum(x, y, z))"
      ],
      "execution_count": 7,
      "outputs": [
        {
          "output_type": "stream",
          "text": [
            "enter 1st num : 5\n",
            "enter 2nd num : 3\n",
            "enter 3rd num : 5\n",
            "0\n"
          ],
          "name": "stdout"
        }
      ]
    },
    {
      "cell_type": "markdown",
      "metadata": {
        "id": "_6vRCGb4KRPP",
        "colab_type": "text"
      },
      "source": [
        "**Write a Python program to count the number of characters (character frequency) in a string.**"
      ]
    },
    {
      "cell_type": "code",
      "metadata": {
        "id": "hOBbg2zhKKFA",
        "colab_type": "code",
        "colab": {
          "base_uri": "https://localhost:8080/",
          "height": 52
        },
        "outputId": "96f4e963-8a83-42ff-fdd7-75b73df88702"
      },
      "source": [
        "def char_frequency(str1):\n",
        "    dict = {}\n",
        "    for n in str1:\n",
        "        keys = dict.keys()\n",
        "        if n in keys:\n",
        "            dict[n] += 1\n",
        "        else:\n",
        "            dict[n] = 1\n",
        "    return dict\n",
        "ch=input(\"enter string : \")\n",
        "print(char_frequency(ch))"
      ],
      "execution_count": 8,
      "outputs": [
        {
          "output_type": "stream",
          "text": [
            "enter string : python\n",
            "{'p': 1, 'y': 1, 't': 1, 'h': 1, 'o': 1, 'n': 1}\n"
          ],
          "name": "stdout"
        }
      ]
    },
    {
      "cell_type": "code",
      "metadata": {
        "id": "OeqtE9MkKb4l",
        "colab_type": "code",
        "colab": {}
      },
      "source": [
        ""
      ],
      "execution_count": null,
      "outputs": []
    }
  ]
}