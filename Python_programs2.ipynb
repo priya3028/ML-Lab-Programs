{
  "nbformat": 4,
  "nbformat_minor": 0,
  "metadata": {
    "colab": {
      "name": "Python programs2.ipynb",
      "provenance": [],
      "collapsed_sections": [],
      "authorship_tag": "ABX9TyOcA0POj25s0GnnHsJnCg1R",
      "include_colab_link": true
    },
    "kernelspec": {
      "name": "python3",
      "display_name": "Python 3"
    }
  },
  "cells": [
    {
      "cell_type": "markdown",
      "metadata": {
        "id": "view-in-github",
        "colab_type": "text"
      },
      "source": [
        "<a href=\"https://colab.research.google.com/github/priya3028/ML-Lab-Programs/blob/master/Python_programs2.ipynb\" target=\"_parent\"><img src=\"https://colab.research.google.com/assets/colab-badge.svg\" alt=\"Open In Colab\"/></a>"
      ]
    },
    {
      "cell_type": "markdown",
      "metadata": {
        "id": "cffZsuvJJozW",
        "colab_type": "text"
      },
      "source": [
        "**Write a Python program to count the occurrences of each\n",
        "word in a given sentence.**"
      ]
    },
    {
      "cell_type": "code",
      "metadata": {
        "id": "FgONJHJTIk7T",
        "colab_type": "code",
        "colab": {
          "base_uri": "https://localhost:8080/",
          "height": 35
        },
        "outputId": "d2e24edc-cde4-42e0-d2bc-66699c72952e"
      },
      "source": [
        "def word_count(str):\n",
        "    counts = dict()\n",
        "    words = str.split()\n",
        "\n",
        "    for word in words:\n",
        "        if word in counts:\n",
        "            counts[word] += 1\n",
        "        else:\n",
        "            counts[word] = 1\n",
        "\n",
        "    return counts\n",
        "\n",
        "    \n",
        "print( word_count('My name is  Priya'))"
      ],
      "execution_count": 5,
      "outputs": [
        {
          "output_type": "stream",
          "text": [
            "{'My': 1, 'name': 1, 'is': 1, 'Priya': 1}\n"
          ],
          "name": "stdout"
        }
      ]
    },
    {
      "cell_type": "code",
      "metadata": {
        "id": "gakADg2dJ5Tu",
        "colab_type": "code",
        "colab": {
          "base_uri": "https://localhost:8080/",
          "height": 35
        },
        "outputId": "9fc099ff-560c-4c77-dc61-c5d8b258c117"
      },
      "source": [
        "a = [10,20,30,10,50,30]\n",
        "\n",
        "dup_items = set()\n",
        "uniq_items = []\n",
        "for x in a:\n",
        "    if x not in dup_items:\n",
        "        uniq_items.append(x)\n",
        "        dup_items.add(x)\n",
        "\n",
        "print(dup_items)"
      ],
      "execution_count": 9,
      "outputs": [
        {
          "output_type": "stream",
          "text": [
            "{10, 20, 50, 30}\n"
          ],
          "name": "stdout"
        }
      ]
    },
    {
      "cell_type": "markdown",
      "metadata": {
        "id": "K7lhoapULi7q",
        "colab_type": "text"
      },
      "source": [
        "**Write a Python program to count the number of elements in a list within a specified range**"
      ]
    },
    {
      "cell_type": "code",
      "metadata": {
        "id": "EDTtGDkLLyDA",
        "colab_type": "code",
        "colab": {
          "base_uri": "https://localhost:8080/",
          "height": 52
        },
        "outputId": "88f8c983-fb51-44b8-94de-7aa124cd91bb"
      },
      "source": [
        "def count_range_in_list(li, min, max):\n",
        "\tctr = 0\n",
        "\tfor x in li:\n",
        "\t\tif min <= x <= max:\n",
        "\t\t\tctr += 1\n",
        "\treturn ctr\n",
        "\n",
        "list1 = [10,20,30,30,30,40,70,80,99]\n",
        "print(count_range_in_list(list1, 40, 100))\n",
        "\n",
        "list2 = ['a','b','c','d','e','f']\n",
        "print(count_range_in_list(list2, 'a', 'e'))\n"
      ],
      "execution_count": 10,
      "outputs": [
        {
          "output_type": "stream",
          "text": [
            "4\n",
            "5\n"
          ],
          "name": "stdout"
        }
      ]
    },
    {
      "cell_type": "markdown",
      "metadata": {
        "id": "xkZVwFo6Mhcn",
        "colab_type": "text"
      },
      "source": [
        "**Write a Python script to merge two Python dictionaries.**"
      ]
    },
    {
      "cell_type": "code",
      "metadata": {
        "id": "GZYbBJIALx_j",
        "colab_type": "code",
        "colab": {
          "base_uri": "https://localhost:8080/",
          "height": 35
        },
        "outputId": "2bec54b3-caca-4fbb-e93b-43e07f963376"
      },
      "source": [
        "a1 = {'a': 200, 'b': 400}\n",
        "a2 = {'x': 100, 'y': 200}\n",
        "a = a1.copy()\n",
        "a.update(a2)\n",
        "print(a)\n"
      ],
      "execution_count": 12,
      "outputs": [
        {
          "output_type": "stream",
          "text": [
            "{'a': 200, 'b': 400, 'x': 100, 'y': 200}\n"
          ],
          "name": "stdout"
        }
      ]
    },
    {
      "cell_type": "markdown",
      "metadata": {
        "id": "KKTBhludOINj",
        "colab_type": "text"
      },
      "source": [
        "**Write a Python program to find the highest 3 values in a\n",
        "dictionary.**"
      ]
    },
    {
      "cell_type": "code",
      "metadata": {
        "id": "RFErvac9MjMP",
        "colab_type": "code",
        "colab": {
          "base_uri": "https://localhost:8080/",
          "height": 35
        },
        "outputId": "136819c4-0543-48ab-9fa6-76fb76bc079b"
      },
      "source": [
        "from heapq import nlargest\n",
        "my_dict = {'a':250, 'b':444, 'c': 600,'d':400, 'e':5000, 'f': 20}  \n",
        "three_largest = nlargest(3, my_dict, key=my_dict.get)\n",
        "print(three_largest)"
      ],
      "execution_count": 18,
      "outputs": [
        {
          "output_type": "stream",
          "text": [
            "['e', 'c', 'b']\n"
          ],
          "name": "stdout"
        }
      ]
    },
    {
      "cell_type": "markdown",
      "metadata": {
        "id": "A_7tT382QB15",
        "colab_type": "text"
      },
      "source": [
        "**Write a Python program to convert a tuple to a string.**"
      ]
    },
    {
      "cell_type": "code",
      "metadata": {
        "id": "06-snPBpPUGy",
        "colab_type": "code",
        "colab": {
          "base_uri": "https://localhost:8080/",
          "height": 35
        },
        "outputId": "1a4b11df-062f-4f5e-a8e0-06ad3eda487d"
      },
      "source": [
        "tup = ('a', 'c', 'c', 'h', 'u')\n",
        "str =  ''.join(tup)\n",
        "print(str)"
      ],
      "execution_count": 20,
      "outputs": [
        {
          "output_type": "stream",
          "text": [
            "acchu\n"
          ],
          "name": "stdout"
        }
      ]
    },
    {
      "cell_type": "markdown",
      "metadata": {
        "id": "YNxa82MlQpzL",
        "colab_type": "text"
      },
      "source": [
        "**Write a Python program to reverse a tuple.**"
      ]
    },
    {
      "cell_type": "code",
      "metadata": {
        "id": "knlFjNKnQbwr",
        "colab_type": "code",
        "colab": {
          "base_uri": "https://localhost:8080/",
          "height": 35
        },
        "outputId": "71faed61-f8a9-4962-95e5-83dea43ef0e1"
      },
      "source": [
        "x = (\"acchu\")\n",
        "y = reversed(x)\n",
        "print(tuple(y))"
      ],
      "execution_count": 24,
      "outputs": [
        {
          "output_type": "stream",
          "text": [
            "('u', 'h', 'c', 'c', 'a')\n"
          ],
          "name": "stdout"
        }
      ]
    },
    {
      "cell_type": "markdown",
      "metadata": {
        "id": "UHkLa_S8RVxj",
        "colab_type": "text"
      },
      "source": [
        "**Write a Python program to remove existing indentation\n",
        "from all of the lines in a given text.**"
      ]
    },
    {
      "cell_type": "code",
      "metadata": {
        "id": "O-7CD24QRGmr",
        "colab_type": "code",
        "colab": {
          "base_uri": "https://localhost:8080/",
          "height": 156
        },
        "outputId": "49f78d5f-757a-461c-aae3-5a9a174625f7"
      },
      "source": [
        "import textwrap\n",
        "sample_text = '''\n",
        "    There is a cute baby in the house, she is very cute and beautiful, everyone\n",
        "    in the family loves her very much, She loves everyone but she is a paapa's \n",
        "    daughter ,her expressions for photos will always be awesome and everyone \n",
        "    loves it .\n",
        "    '''\n",
        "text_without_Indentation = textwrap.dedent(sample_text)\n",
        "print()\n",
        "print(text_without_Indentation )\n",
        "print()\n"
      ],
      "execution_count": 27,
      "outputs": [
        {
          "output_type": "stream",
          "text": [
            "\n",
            "\n",
            "There is a cute baby in the house, she is very cute and beautiful, everyone\n",
            "in the family loves her very much, She loves everyone but she is a paapa's \n",
            "daughter ,her expressions for photos will always be awesome and everyone \n",
            "loves it .\n",
            "\n",
            "\n"
          ],
          "name": "stdout"
        }
      ]
    },
    {
      "cell_type": "code",
      "metadata": {
        "id": "mAa7_vQDRnws",
        "colab_type": "code",
        "colab": {}
      },
      "source": [
        ""
      ],
      "execution_count": null,
      "outputs": []
    }
  ]
}